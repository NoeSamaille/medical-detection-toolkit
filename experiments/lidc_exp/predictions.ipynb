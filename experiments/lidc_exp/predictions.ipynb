{
 "cells": [
  {
   "cell_type": "code",
   "execution_count": 45,
   "metadata": {},
   "outputs": [],
   "source": [
    "import matplotlib.pyplot as plt\n",
    "import SimpleITK as sitk\n",
    "import numpy as np\n",
    "import os, sys\n",
    "import nrrd"
   ]
  },
  {
   "cell_type": "markdown",
   "metadata": {},
   "source": [
    "# Load original NRRD and segmentation"
   ]
  },
  {
   "cell_type": "code",
   "execution_count": 47,
   "metadata": {},
   "outputs": [
    {
     "name": "stdout",
     "output_type": "stream",
     "text": [
      "Original img:\n",
      " -> shape: (141, 512, 512)\n",
      " -> Spacing: [0.703125 0.703125 2.5     ]\n",
      "PP img:\n",
      " -> shape: (282, 514, 514)\n",
      " -> Spacing: [0.7, 0.7, 1.25]\n",
      "Seg:\n",
      " -> shape: (514, 514, 282)\n",
      " -> Min: 0.0\n",
      " -> Max: 1.0\n",
      " -> Mean: 0.00013387203216552734\n",
      " -> Std: 0.0111846923828125\n",
      "Seg mask:\n",
      " -> shape: (514, 514, 282)\n",
      " -> Unique: [0 1]\n"
     ]
    }
   ],
   "source": [
    "path = '/wmlce/data/medical-datasets/MDT-LIDC-IDRI/NRRDs/LIDC-IDRI-0489/LIDC-IDRI-0489_CT.nrrd'\n",
    "itkimg = sitk.ReadImage(path)\n",
    "original_spacing = np.array(itkimg.GetSpacing())\n",
    "original_img_arr = sitk.GetArrayFromImage(itkimg)\n",
    "pp_path = '/wmlce/data/medical-datasets/MDT-PP/LIDC-IDRI-0489_img.npy'\n",
    "pp_img = np.load(pp_path)\n",
    "pp_spacing = [0.7, 0.7, 1.25]\n",
    "seg_path = 'seg_0.npy'\n",
    "seg = np.load(seg_path)\n",
    "seg_mask = np.zeros(seg.shape).astype(np.uint8)\n",
    "seg_tresh = 0.5\n",
    "seg_mask[seg > seg_tresh] = 1\n",
    "\n",
    "print(f'Original img:\\n -> shape: {original_img_arr.shape}\\n -> Spacing: {original_spacing}')\n",
    "print(f'PP img:\\n -> shape: {pp_img.shape}\\n -> Spacing: {pp_spacing}')\n",
    "print(f'Seg:\\n -> shape: {seg.shape}\\n -> Min: {np.min(seg)}\\n -> Max: {np.max(seg)}\\n -> Mean: {np.mean(seg)}\\n -> Std: {np.std(seg)}')\n",
    "print(f'Seg mask:\\n -> shape: {seg_mask.shape}\\n -> Unique: {np.unique(seg_mask)}')"
   ]
  },
  {
   "cell_type": "markdown",
   "metadata": {},
   "source": [
    "## Reswap and resample seg to original size"
   ]
  },
  {
   "cell_type": "code",
   "execution_count": 48,
   "metadata": {},
   "outputs": [
    {
     "name": "stdout",
     "output_type": "stream",
     "text": [
      "Resampled seg:\n",
      " -> shape: (141, 512, 512)\n",
      " -> Spacing: [0.7027343749999999, 0.7027343749999999, 2.5]\n",
      " -> Unique: [0 1]\n"
     ]
    }
   ],
   "source": [
    "from preprocessing import resample_array, resample_array_to_shape\n",
    "# Reswap segmentation to match original image\n",
    "seg_mask = np.swapaxes(seg_mask, 0, 2)\n",
    "seg_mask = np.swapaxes(seg_mask, 1, 2)\n",
    "# Resample segmentation to original shape\n",
    "seg_mask, seg_spacing = resample_array_to_shape(seg_mask, pp_spacing, target_shape=original_img_arr.shape)\n",
    "seg_mask[seg_mask<=0.5] = 0\n",
    "seg_mask[seg_mask>0] = 1\n",
    "seg_mask = seg_mask.astype(np.uint8)\n",
    "print(f'Resampled seg:\\n -> shape: {seg_mask.shape}\\n -> Spacing: {seg_spacing}\\n -> Unique: {np.unique(seg_mask)}')\n",
    "seg_itk = sitk.GetImageFromArray(seg_mask)\n",
    "seg_itk.SetOrigin(itkimg.GetOrigin())\n",
    "seg_itk.SetSpacing(original_spacing)\n",
    "sitk.WriteImage(seg_itk, 'test.nrrd')"
   ]
  },
  {
   "cell_type": "code",
   "execution_count": null,
   "metadata": {},
   "outputs": [],
   "source": []
  }
 ],
 "metadata": {
  "kernelspec": {
   "display_name": "Python 3",
   "language": "python",
   "name": "python3"
  },
  "language_info": {
   "codemirror_mode": {
    "name": "ipython",
    "version": 3
   },
   "file_extension": ".py",
   "mimetype": "text/x-python",
   "name": "python",
   "nbconvert_exporter": "python",
   "pygments_lexer": "ipython3",
   "version": "3.7.6"
  }
 },
 "nbformat": 4,
 "nbformat_minor": 4
}
